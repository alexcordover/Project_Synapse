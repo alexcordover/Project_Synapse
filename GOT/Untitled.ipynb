{
 "cells": [
  {
   "cell_type": "code",
   "execution_count": 2,
   "metadata": {
    "collapsed": false
   },
   "outputs": [],
   "source": [
    "import csv\n",
    "import numpy as np\n",
    "import pandas as pd\n",
    "import statsmodels.api as sm\n",
    "import scipy.stats as ss\n",
    "import matplotlib.pyplot as plt\n",
    "plt.style.use('ggplot')\n",
    "%matplotlib inline"
   ]
  },
  {
   "cell_type": "code",
   "execution_count": 3,
   "metadata": {
    "collapsed": false
   },
   "outputs": [],
   "source": [
    "x = pd.read_csv('all_necessary_data.csv')"
   ]
  },
  {
   "cell_type": "code",
   "execution_count": 4,
   "metadata": {
    "collapsed": false
   },
   "outputs": [
    {
     "data": {
      "text/html": [
       "<div>\n",
       "<table border=\"1\" class=\"dataframe\">\n",
       "  <thead>\n",
       "    <tr style=\"text-align: right;\">\n",
       "      <th></th>\n",
       "      <th>Name</th>\n",
       "      <th>House</th>\n",
       "      <th>Gender</th>\n",
       "      <th>Nobility</th>\n",
       "      <th>Is Dead</th>\n",
       "      <th>Num Betrayed</th>\n",
       "      <th>Num Been Betrayed</th>\n",
       "      <th>Is Betrayer</th>\n",
       "      <th>Is Betrayed</th>\n",
       "    </tr>\n",
       "  </thead>\n",
       "  <tbody>\n",
       "    <tr>\n",
       "      <th>0</th>\n",
       "      <td>Hugh</td>\n",
       "      <td>Arryn</td>\n",
       "      <td>1</td>\n",
       "      <td>0</td>\n",
       "      <td>1</td>\n",
       "      <td>0</td>\n",
       "      <td>0</td>\n",
       "      <td>0</td>\n",
       "      <td>0</td>\n",
       "    </tr>\n",
       "    <tr>\n",
       "      <th>1</th>\n",
       "      <td>Marillion</td>\n",
       "      <td>Arryn</td>\n",
       "      <td>1</td>\n",
       "      <td>0</td>\n",
       "      <td>1</td>\n",
       "      <td>0</td>\n",
       "      <td>0</td>\n",
       "      <td>0</td>\n",
       "      <td>0</td>\n",
       "    </tr>\n",
       "    <tr>\n",
       "      <th>2</th>\n",
       "      <td>Mord</td>\n",
       "      <td>Arryn</td>\n",
       "      <td>1</td>\n",
       "      <td>0</td>\n",
       "      <td>0</td>\n",
       "      <td>0</td>\n",
       "      <td>0</td>\n",
       "      <td>0</td>\n",
       "      <td>0</td>\n",
       "    </tr>\n",
       "    <tr>\n",
       "      <th>3</th>\n",
       "      <td>Myranda</td>\n",
       "      <td>Arryn</td>\n",
       "      <td>0</td>\n",
       "      <td>1</td>\n",
       "      <td>1</td>\n",
       "      <td>0</td>\n",
       "      <td>0</td>\n",
       "      <td>0</td>\n",
       "      <td>0</td>\n",
       "    </tr>\n",
       "    <tr>\n",
       "      <th>4</th>\n",
       "      <td>Robin Arryn</td>\n",
       "      <td>Arryn</td>\n",
       "      <td>1</td>\n",
       "      <td>1</td>\n",
       "      <td>0</td>\n",
       "      <td>0</td>\n",
       "      <td>0</td>\n",
       "      <td>0</td>\n",
       "      <td>0</td>\n",
       "    </tr>\n",
       "  </tbody>\n",
       "</table>\n",
       "</div>"
      ],
      "text/plain": [
       "          Name  House  Gender  Nobility  Is Dead  Num Betrayed  \\\n",
       "0         Hugh  Arryn       1         0        1             0   \n",
       "1    Marillion  Arryn       1         0        1             0   \n",
       "2         Mord  Arryn       1         0        0             0   \n",
       "3      Myranda  Arryn       0         1        1             0   \n",
       "4  Robin Arryn  Arryn       1         1        0             0   \n",
       "\n",
       "   Num Been Betrayed  Is Betrayer  Is Betrayed  \n",
       "0                  0            0            0  \n",
       "1                  0            0            0  \n",
       "2                  0            0            0  \n",
       "3                  0            0            0  \n",
       "4                  0            0            0  "
      ]
     },
     "execution_count": 4,
     "metadata": {},
     "output_type": "execute_result"
    }
   ],
   "source": [
    "x.head()"
   ]
  },
  {
   "cell_type": "code",
   "execution_count": 5,
   "metadata": {
    "collapsed": false
   },
   "outputs": [
    {
     "name": "stdout",
     "output_type": "stream",
     "text": [
      "Optimization terminated successfully.\n",
      "         Current function value: 0.398396\n",
      "         Iterations 7\n"
     ]
    }
   ],
   "source": [
    "x['intercept'] = 1.0\n",
    "train_cols = x.columns[np.array([2,3,9])]\n",
    "logit = sm.Logit(x['Is Betrayed'], x[train_cols])\n",
    "result = logit.fit()"
   ]
  },
  {
   "cell_type": "code",
   "execution_count": 6,
   "metadata": {
    "collapsed": false
   },
   "outputs": [
    {
     "data": {
      "text/html": [
       "<table class=\"simpletable\">\n",
       "<caption>Logit Regression Results</caption>\n",
       "<tr>\n",
       "  <th>Dep. Variable:</th>    <td>Is Betrayed</td>   <th>  No. Observations:  </th>  <td>   161</td>  \n",
       "</tr>\n",
       "<tr>\n",
       "  <th>Model:</th>               <td>Logit</td>      <th>  Df Residuals:      </th>  <td>   158</td>  \n",
       "</tr>\n",
       "<tr>\n",
       "  <th>Method:</th>               <td>MLE</td>       <th>  Df Model:          </th>  <td>     2</td>  \n",
       "</tr>\n",
       "<tr>\n",
       "  <th>Date:</th>          <td>Mon, 16 May 2016</td> <th>  Pseudo R-squ.:     </th>  <td>0.09892</td> \n",
       "</tr>\n",
       "<tr>\n",
       "  <th>Time:</th>              <td>18:04:56</td>     <th>  Log-Likelihood:    </th> <td> -64.142</td> \n",
       "</tr>\n",
       "<tr>\n",
       "  <th>converged:</th>           <td>True</td>       <th>  LL-Null:           </th> <td> -71.183</td> \n",
       "</tr>\n",
       "<tr>\n",
       "  <th> </th>                      <td> </td>        <th>  LLR p-value:       </th> <td>0.0008746</td>\n",
       "</tr>\n",
       "</table>\n",
       "<table class=\"simpletable\">\n",
       "<tr>\n",
       "      <td></td>         <th>coef</th>     <th>std err</th>      <th>z</th>      <th>P>|z|</th> <th>[95.0% Conf. Int.]</th> \n",
       "</tr>\n",
       "<tr>\n",
       "  <th>Gender</th>    <td>   -0.9381</td> <td>    0.492</td> <td>   -1.908</td> <td> 0.056</td> <td>   -1.902     0.025</td>\n",
       "</tr>\n",
       "<tr>\n",
       "  <th>Nobility</th>  <td>    1.6796</td> <td>    0.577</td> <td>    2.911</td> <td> 0.004</td> <td>    0.549     2.811</td>\n",
       "</tr>\n",
       "<tr>\n",
       "  <th>intercept</th> <td>   -2.1282</td> <td>    0.600</td> <td>   -3.544</td> <td> 0.000</td> <td>   -3.305    -0.951</td>\n",
       "</tr>\n",
       "</table>"
      ],
      "text/plain": [
       "<class 'statsmodels.iolib.summary.Summary'>\n",
       "\"\"\"\n",
       "                           Logit Regression Results                           \n",
       "==============================================================================\n",
       "Dep. Variable:            Is Betrayed   No. Observations:                  161\n",
       "Model:                          Logit   Df Residuals:                      158\n",
       "Method:                           MLE   Df Model:                            2\n",
       "Date:                Mon, 16 May 2016   Pseudo R-squ.:                 0.09892\n",
       "Time:                        18:04:56   Log-Likelihood:                -64.142\n",
       "converged:                       True   LL-Null:                       -71.183\n",
       "                                        LLR p-value:                 0.0008746\n",
       "==============================================================================\n",
       "                 coef    std err          z      P>|z|      [95.0% Conf. Int.]\n",
       "------------------------------------------------------------------------------\n",
       "Gender        -0.9381      0.492     -1.908      0.056        -1.902     0.025\n",
       "Nobility       1.6796      0.577      2.911      0.004         0.549     2.811\n",
       "intercept     -2.1282      0.600     -3.544      0.000        -3.305    -0.951\n",
       "==============================================================================\n",
       "\"\"\""
      ]
     },
     "execution_count": 6,
     "metadata": {},
     "output_type": "execute_result"
    }
   ],
   "source": [
    "result.summary()"
   ]
  },
  {
   "cell_type": "code",
   "execution_count": 7,
   "metadata": {
    "collapsed": false
   },
   "outputs": [
    {
     "data": {
      "text/plain": [
       "0.49095637717106666"
      ]
     },
     "execution_count": 7,
     "metadata": {},
     "output_type": "execute_result"
    }
   ],
   "source": [
    "np.exp(-2.2064)\n",
    "np.exp(-0.7114)"
   ]
  },
  {
   "cell_type": "code",
   "execution_count": 8,
   "metadata": {
    "collapsed": true
   },
   "outputs": [],
   "source": [
    "dummy = pd.get_dummies(x['House'],prefix = 'House')"
   ]
  },
  {
   "cell_type": "code",
   "execution_count": 9,
   "metadata": {
    "collapsed": false
   },
   "outputs": [
    {
     "data": {
      "text/html": [
       "<div>\n",
       "<table border=\"1\" class=\"dataframe\">\n",
       "  <thead>\n",
       "    <tr style=\"text-align: right;\">\n",
       "      <th></th>\n",
       "      <th>House_Arryn</th>\n",
       "      <th>House_Baratheon</th>\n",
       "      <th>House_Greyjoy</th>\n",
       "      <th>House_Lannister</th>\n",
       "      <th>House_Martell</th>\n",
       "      <th>House_Night's Watch</th>\n",
       "      <th>House_None</th>\n",
       "      <th>House_Stark</th>\n",
       "      <th>House_Targaryen</th>\n",
       "      <th>House_Tully</th>\n",
       "      <th>House_Tyrell</th>\n",
       "      <th>House_Wildling</th>\n",
       "    </tr>\n",
       "  </thead>\n",
       "  <tbody>\n",
       "    <tr>\n",
       "      <th>0</th>\n",
       "      <td>1.0</td>\n",
       "      <td>0.0</td>\n",
       "      <td>0.0</td>\n",
       "      <td>0.0</td>\n",
       "      <td>0.0</td>\n",
       "      <td>0.0</td>\n",
       "      <td>0.0</td>\n",
       "      <td>0.0</td>\n",
       "      <td>0.0</td>\n",
       "      <td>0.0</td>\n",
       "      <td>0.0</td>\n",
       "      <td>0.0</td>\n",
       "    </tr>\n",
       "    <tr>\n",
       "      <th>1</th>\n",
       "      <td>1.0</td>\n",
       "      <td>0.0</td>\n",
       "      <td>0.0</td>\n",
       "      <td>0.0</td>\n",
       "      <td>0.0</td>\n",
       "      <td>0.0</td>\n",
       "      <td>0.0</td>\n",
       "      <td>0.0</td>\n",
       "      <td>0.0</td>\n",
       "      <td>0.0</td>\n",
       "      <td>0.0</td>\n",
       "      <td>0.0</td>\n",
       "    </tr>\n",
       "    <tr>\n",
       "      <th>2</th>\n",
       "      <td>1.0</td>\n",
       "      <td>0.0</td>\n",
       "      <td>0.0</td>\n",
       "      <td>0.0</td>\n",
       "      <td>0.0</td>\n",
       "      <td>0.0</td>\n",
       "      <td>0.0</td>\n",
       "      <td>0.0</td>\n",
       "      <td>0.0</td>\n",
       "      <td>0.0</td>\n",
       "      <td>0.0</td>\n",
       "      <td>0.0</td>\n",
       "    </tr>\n",
       "    <tr>\n",
       "      <th>3</th>\n",
       "      <td>1.0</td>\n",
       "      <td>0.0</td>\n",
       "      <td>0.0</td>\n",
       "      <td>0.0</td>\n",
       "      <td>0.0</td>\n",
       "      <td>0.0</td>\n",
       "      <td>0.0</td>\n",
       "      <td>0.0</td>\n",
       "      <td>0.0</td>\n",
       "      <td>0.0</td>\n",
       "      <td>0.0</td>\n",
       "      <td>0.0</td>\n",
       "    </tr>\n",
       "    <tr>\n",
       "      <th>4</th>\n",
       "      <td>1.0</td>\n",
       "      <td>0.0</td>\n",
       "      <td>0.0</td>\n",
       "      <td>0.0</td>\n",
       "      <td>0.0</td>\n",
       "      <td>0.0</td>\n",
       "      <td>0.0</td>\n",
       "      <td>0.0</td>\n",
       "      <td>0.0</td>\n",
       "      <td>0.0</td>\n",
       "      <td>0.0</td>\n",
       "      <td>0.0</td>\n",
       "    </tr>\n",
       "  </tbody>\n",
       "</table>\n",
       "</div>"
      ],
      "text/plain": [
       "   House_Arryn  House_Baratheon  House_Greyjoy  House_Lannister  \\\n",
       "0          1.0              0.0            0.0              0.0   \n",
       "1          1.0              0.0            0.0              0.0   \n",
       "2          1.0              0.0            0.0              0.0   \n",
       "3          1.0              0.0            0.0              0.0   \n",
       "4          1.0              0.0            0.0              0.0   \n",
       "\n",
       "   House_Martell  House_Night's Watch  House_None  House_Stark  \\\n",
       "0            0.0                  0.0         0.0          0.0   \n",
       "1            0.0                  0.0         0.0          0.0   \n",
       "2            0.0                  0.0         0.0          0.0   \n",
       "3            0.0                  0.0         0.0          0.0   \n",
       "4            0.0                  0.0         0.0          0.0   \n",
       "\n",
       "   House_Targaryen  House_Tully  House_Tyrell  House_Wildling  \n",
       "0              0.0          0.0           0.0             0.0  \n",
       "1              0.0          0.0           0.0             0.0  \n",
       "2              0.0          0.0           0.0             0.0  \n",
       "3              0.0          0.0           0.0             0.0  \n",
       "4              0.0          0.0           0.0             0.0  "
      ]
     },
     "execution_count": 9,
     "metadata": {},
     "output_type": "execute_result"
    }
   ],
   "source": [
    "dummy.head()"
   ]
  },
  {
   "cell_type": "code",
   "execution_count": 10,
   "metadata": {
    "collapsed": true
   },
   "outputs": [],
   "source": [
    "keep = ['Name','Gender','Nobility']\n",
    "new = x[keep].join(dummy.ix[:,'House_Arryn':],how='right')\n",
    "new['Is Betrayer'] = x['Is Betrayer']"
   ]
  },
  {
   "cell_type": "code",
   "execution_count": 11,
   "metadata": {
    "collapsed": false
   },
   "outputs": [
    {
     "data": {
      "text/html": [
       "<div>\n",
       "<table border=\"1\" class=\"dataframe\">\n",
       "  <thead>\n",
       "    <tr style=\"text-align: right;\">\n",
       "      <th></th>\n",
       "      <th>Name</th>\n",
       "      <th>Gender</th>\n",
       "      <th>Nobility</th>\n",
       "      <th>House_Arryn</th>\n",
       "      <th>House_Baratheon</th>\n",
       "      <th>House_Greyjoy</th>\n",
       "      <th>House_Lannister</th>\n",
       "      <th>House_Martell</th>\n",
       "      <th>House_Night's Watch</th>\n",
       "      <th>House_None</th>\n",
       "      <th>House_Stark</th>\n",
       "      <th>House_Targaryen</th>\n",
       "      <th>House_Tully</th>\n",
       "      <th>House_Tyrell</th>\n",
       "      <th>House_Wildling</th>\n",
       "      <th>Is Betrayer</th>\n",
       "    </tr>\n",
       "  </thead>\n",
       "  <tbody>\n",
       "    <tr>\n",
       "      <th>0</th>\n",
       "      <td>Hugh</td>\n",
       "      <td>1</td>\n",
       "      <td>0</td>\n",
       "      <td>1.0</td>\n",
       "      <td>0.0</td>\n",
       "      <td>0.0</td>\n",
       "      <td>0.0</td>\n",
       "      <td>0.0</td>\n",
       "      <td>0.0</td>\n",
       "      <td>0.0</td>\n",
       "      <td>0.0</td>\n",
       "      <td>0.0</td>\n",
       "      <td>0.0</td>\n",
       "      <td>0.0</td>\n",
       "      <td>0.0</td>\n",
       "      <td>0</td>\n",
       "    </tr>\n",
       "    <tr>\n",
       "      <th>1</th>\n",
       "      <td>Marillion</td>\n",
       "      <td>1</td>\n",
       "      <td>0</td>\n",
       "      <td>1.0</td>\n",
       "      <td>0.0</td>\n",
       "      <td>0.0</td>\n",
       "      <td>0.0</td>\n",
       "      <td>0.0</td>\n",
       "      <td>0.0</td>\n",
       "      <td>0.0</td>\n",
       "      <td>0.0</td>\n",
       "      <td>0.0</td>\n",
       "      <td>0.0</td>\n",
       "      <td>0.0</td>\n",
       "      <td>0.0</td>\n",
       "      <td>0</td>\n",
       "    </tr>\n",
       "    <tr>\n",
       "      <th>2</th>\n",
       "      <td>Mord</td>\n",
       "      <td>1</td>\n",
       "      <td>0</td>\n",
       "      <td>1.0</td>\n",
       "      <td>0.0</td>\n",
       "      <td>0.0</td>\n",
       "      <td>0.0</td>\n",
       "      <td>0.0</td>\n",
       "      <td>0.0</td>\n",
       "      <td>0.0</td>\n",
       "      <td>0.0</td>\n",
       "      <td>0.0</td>\n",
       "      <td>0.0</td>\n",
       "      <td>0.0</td>\n",
       "      <td>0.0</td>\n",
       "      <td>0</td>\n",
       "    </tr>\n",
       "    <tr>\n",
       "      <th>3</th>\n",
       "      <td>Myranda</td>\n",
       "      <td>0</td>\n",
       "      <td>1</td>\n",
       "      <td>1.0</td>\n",
       "      <td>0.0</td>\n",
       "      <td>0.0</td>\n",
       "      <td>0.0</td>\n",
       "      <td>0.0</td>\n",
       "      <td>0.0</td>\n",
       "      <td>0.0</td>\n",
       "      <td>0.0</td>\n",
       "      <td>0.0</td>\n",
       "      <td>0.0</td>\n",
       "      <td>0.0</td>\n",
       "      <td>0.0</td>\n",
       "      <td>0</td>\n",
       "    </tr>\n",
       "    <tr>\n",
       "      <th>4</th>\n",
       "      <td>Robin Arryn</td>\n",
       "      <td>1</td>\n",
       "      <td>1</td>\n",
       "      <td>1.0</td>\n",
       "      <td>0.0</td>\n",
       "      <td>0.0</td>\n",
       "      <td>0.0</td>\n",
       "      <td>0.0</td>\n",
       "      <td>0.0</td>\n",
       "      <td>0.0</td>\n",
       "      <td>0.0</td>\n",
       "      <td>0.0</td>\n",
       "      <td>0.0</td>\n",
       "      <td>0.0</td>\n",
       "      <td>0.0</td>\n",
       "      <td>0</td>\n",
       "    </tr>\n",
       "  </tbody>\n",
       "</table>\n",
       "</div>"
      ],
      "text/plain": [
       "          Name  Gender  Nobility  House_Arryn  House_Baratheon  House_Greyjoy  \\\n",
       "0         Hugh       1         0          1.0              0.0            0.0   \n",
       "1    Marillion       1         0          1.0              0.0            0.0   \n",
       "2         Mord       1         0          1.0              0.0            0.0   \n",
       "3      Myranda       0         1          1.0              0.0            0.0   \n",
       "4  Robin Arryn       1         1          1.0              0.0            0.0   \n",
       "\n",
       "   House_Lannister  House_Martell  House_Night's Watch  House_None  \\\n",
       "0              0.0            0.0                  0.0         0.0   \n",
       "1              0.0            0.0                  0.0         0.0   \n",
       "2              0.0            0.0                  0.0         0.0   \n",
       "3              0.0            0.0                  0.0         0.0   \n",
       "4              0.0            0.0                  0.0         0.0   \n",
       "\n",
       "   House_Stark  House_Targaryen  House_Tully  House_Tyrell  House_Wildling  \\\n",
       "0          0.0              0.0          0.0           0.0             0.0   \n",
       "1          0.0              0.0          0.0           0.0             0.0   \n",
       "2          0.0              0.0          0.0           0.0             0.0   \n",
       "3          0.0              0.0          0.0           0.0             0.0   \n",
       "4          0.0              0.0          0.0           0.0             0.0   \n",
       "\n",
       "   Is Betrayer  \n",
       "0            0  \n",
       "1            0  \n",
       "2            0  \n",
       "3            0  \n",
       "4            0  "
      ]
     },
     "execution_count": 11,
     "metadata": {},
     "output_type": "execute_result"
    }
   ],
   "source": [
    "new.head()"
   ]
  },
  {
   "cell_type": "code",
   "execution_count": 12,
   "metadata": {
    "collapsed": false
   },
   "outputs": [
    {
     "name": "stdout",
     "output_type": "stream",
     "text": [
      "Optimization terminated successfully.\n",
      "         Current function value: 0.546155\n",
      "         Iterations 5\n"
     ]
    }
   ],
   "source": [
    "train_cols = new.columns[(np.array([1,2]))]\n",
    "new_logit = sm.Logit(new['Is Betrayer'], new[train_cols])\n",
    "new_result = new_logit.fit()"
   ]
  },
  {
   "cell_type": "code",
   "execution_count": 13,
   "metadata": {
    "collapsed": false
   },
   "outputs": [
    {
     "data": {
      "text/html": [
       "<table class=\"simpletable\">\n",
       "<caption>Logit Regression Results</caption>\n",
       "<tr>\n",
       "  <th>Dep. Variable:</th>    <td>Is Betrayer</td>   <th>  No. Observations:  </th>  <td>   161</td> \n",
       "</tr>\n",
       "<tr>\n",
       "  <th>Model:</th>               <td>Logit</td>      <th>  Df Residuals:      </th>  <td>   159</td> \n",
       "</tr>\n",
       "<tr>\n",
       "  <th>Method:</th>               <td>MLE</td>       <th>  Df Model:          </th>  <td>     1</td> \n",
       "</tr>\n",
       "<tr>\n",
       "  <th>Date:</th>          <td>Mon, 16 May 2016</td> <th>  Pseudo R-squ.:     </th> <td>-0.02771</td>\n",
       "</tr>\n",
       "<tr>\n",
       "  <th>Time:</th>              <td>18:04:56</td>     <th>  Log-Likelihood:    </th> <td> -87.931</td>\n",
       "</tr>\n",
       "<tr>\n",
       "  <th>converged:</th>           <td>True</td>       <th>  LL-Null:           </th> <td> -85.560</td>\n",
       "</tr>\n",
       "<tr>\n",
       "  <th> </th>                      <td> </td>        <th>  LLR p-value:       </th>  <td> 1.000</td> \n",
       "</tr>\n",
       "</table>\n",
       "<table class=\"simpletable\">\n",
       "<tr>\n",
       "      <td></td>        <th>coef</th>     <th>std err</th>      <th>z</th>      <th>P>|z|</th> <th>[95.0% Conf. Int.]</th> \n",
       "</tr>\n",
       "<tr>\n",
       "  <th>Gender</th>   <td>   -1.3311</td> <td>    0.285</td> <td>   -4.670</td> <td> 0.000</td> <td>   -1.890    -0.772</td>\n",
       "</tr>\n",
       "<tr>\n",
       "  <th>Nobility</th> <td>   -0.0453</td> <td>    0.319</td> <td>   -0.142</td> <td> 0.887</td> <td>   -0.671     0.580</td>\n",
       "</tr>\n",
       "</table>"
      ],
      "text/plain": [
       "<class 'statsmodels.iolib.summary.Summary'>\n",
       "\"\"\"\n",
       "                           Logit Regression Results                           \n",
       "==============================================================================\n",
       "Dep. Variable:            Is Betrayer   No. Observations:                  161\n",
       "Model:                          Logit   Df Residuals:                      159\n",
       "Method:                           MLE   Df Model:                            1\n",
       "Date:                Mon, 16 May 2016   Pseudo R-squ.:                -0.02771\n",
       "Time:                        18:04:56   Log-Likelihood:                -87.931\n",
       "converged:                       True   LL-Null:                       -85.560\n",
       "                                        LLR p-value:                     1.000\n",
       "==============================================================================\n",
       "                 coef    std err          z      P>|z|      [95.0% Conf. Int.]\n",
       "------------------------------------------------------------------------------\n",
       "Gender        -1.3311      0.285     -4.670      0.000        -1.890    -0.772\n",
       "Nobility      -0.0453      0.319     -0.142      0.887        -0.671     0.580\n",
       "==============================================================================\n",
       "\"\"\""
      ]
     },
     "execution_count": 13,
     "metadata": {},
     "output_type": "execute_result"
    }
   ],
   "source": [
    "new_result.summary()"
   ]
  },
  {
   "cell_type": "code",
   "execution_count": 14,
   "metadata": {
    "collapsed": false
   },
   "outputs": [],
   "source": [
    "eps = np.linspace(1,20,num=20)\n",
    "p = 0.12\n",
    "returns = []\n",
    "cdfs = []\n",
    "for i in eps:\n",
    "    returns.append(ss.geom.pmf(i,p))\n",
    "    cdfs.append(ss.geom.cdf(i,p))"
   ]
  },
  {
   "cell_type": "code",
   "execution_count": 15,
   "metadata": {
    "collapsed": false
   },
   "outputs": [
    {
     "data": {
      "image/png": "[encoded data removed]",
      "text/plain": [
       "<matplotlib.figure.Figure at 0xabc40eec>"
      ]
     },
     "metadata": {},
     "output_type": "display_data"
    }
   ],
   "source": [
    "plt.figure(figsize = (10,4))\n",
    "plt.subplot(121)\n",
    "plt.plot(eps,returns)\n",
    "plt.xlabel('Episodes Since Last Betrayed')\n",
    "plt.ylabel('Probability')\n",
    "\n",
    "plt.subplot(122)\n",
    "plt.xlabel('Episodes Since Last Betrayal')\n",
    "plt.plot(eps,cdfs)\n",
    "\n",
    "plt.savefig('Daenerys_Bernoulli.png')"
   ]
  },
  {
   "cell_type": "code",
   "execution_count": 16,
   "metadata": {
    "collapsed": false
   },
   "outputs": [
    {
     "name": "stdout",
     "output_type": "stream",
     "text": [
      "0.0546934444567\n",
      "0.202656165391\n"
     ]
    }
   ],
   "source": [
    "from scipy.special import *\n",
    "print(btdtri(6,44,0.05))\n",
    "print(btdtri(6,44,.95))"
   ]
  },
  {
   "cell_type": "code",
   "execution_count": 20,
   "metadata": {
    "collapsed": false
   },
   "outputs": [
    {
     "data": {
      "text/plain": [
       "0.33516736400849922"
      ]
     },
     "execution_count": 20,
     "metadata": {},
     "output_type": "execute_result"
    }
   ],
   "source": [
    "eps = np.linspace(1,20,num=20)\n",
    "p = 0.04\n",
    "returns = []\n",
    "cdfs = []\n",
    "for i in eps:\n",
    "    returns.append(ss.geom.pmf(i,p))\n",
    "    cdfs.append(ss.geom.cdf(i,p))\n",
    "\n",
    "cdfs[9]"
   ]
  },
  {
   "cell_type": "code",
   "execution_count": null,
   "metadata": {
    "collapsed": true
   },
   "outputs": [],
   "source": []
  }
 ],
 "metadata": {
  "kernelspec": {
   "display_name": "Python 3",
   "language": "python",
   "name": "python3"
  },
  "language_info": {
   "codemirror_mode": {
    "name": "ipython",
    "version": 3
   },
   "file_extension": ".py",
   "mimetype": "text/x-python",
   "name": "python",
   "nbconvert_exporter": "python",
   "pygments_lexer": "ipython3",
   "version": "3.4.3"
  }
 },
 "nbformat": 4,
 "nbformat_minor": 0
}
