{
 "cells": [
  {
   "cell_type": "code",
   "execution_count": 15,
   "metadata": {
    "collapsed": false
   },
   "outputs": [],
   "source": [
    "%matplotlib inline\n",
    "import numpy as np\n",
    "import matplotlib.pyplot as plt\n",
    "import pymc as pm\n",
    "from scipy.stats import gaussian_kde\n",
    "plt.style.use('ggplot')"
   ]
  },
  {
   "cell_type": "code",
   "execution_count": 16,
   "metadata": {
    "collapsed": true
   },
   "outputs": [],
   "source": [
    "#constants\n",
    "avg_warriors_fgs = 40.3\n",
    "warriors_attempted_3 = 525\n",
    "warriors_total_attempted_fg = 1476\n",
    "warriors_free_throws_made = 304\n",
    "warriors_free_throws_attempted = 414\n",
    "\n",
    "warriors_fg_data = np.array([39,40,34,46,45,43,42,42,44,43,40,43,38,33,40,36,37])\n",
    "warriors_fg_allowed = np.array([30,35,36,33,31,39,36,40,43,38,39,35,46,39,39,38,34])\n",
    "\n",
    "\n",
    "avg_cavs_fgs = 38.7\n",
    "cavs_attempted_3 = 465\n",
    "cavs_total_attempted_fg = 1140\n",
    "cavs_free_throws_made = 211\n",
    "cavs_free_throws_attempted = 291\n",
    "cavs_fg_data = np.array([39,40,39,36,37,41,42,38,41,38,28,39,44,40])\n",
    "cavs_fg_allowed = np.array([37,34,36,37,33,30,41,40,32,33,38,42,27,33])\n"
   ]
  },
  {
   "cell_type": "code",
   "execution_count": 17,
   "metadata": {
    "collapsed": true
   },
   "outputs": [],
   "source": [
    "warriors_mu = pm.Normal('warriors_mu',avg_warriors_fgs,1/16.0)\n",
    "warriors_tau = 1.0/pm.Uniform('warriors_tau',1,10)**2\n",
    "warriors_obs = pm.Normal('warriors_obs',warriors_mu,warriors_tau,value=warriors_fg_data,\n",
    "                        observed=True)\n",
    "\n",
    "warriors_3_percentage = pm.Beta('warriors_3_percentage',warriors_attempted_3+1,\n",
    "                               warriors_total_attempted_fg-warriors_attempted_3+1)\n",
    "\n",
    "warriors_attempted_free_throw = pm.DiscreteUniform('warriors_free_throw',11,33)\n",
    "warriors_percent_free_throw = pm.Beta('warriors_completed_free_throw',warriors_free_throws_made+1,\n",
    "                                     warriors_free_throws_attempted-warriors_free_throws_made+1)\n",
    "warriors_free_throw_binom = pm.Binomial('warriors_free_throw_binom',\n",
    "                                        warriors_attempted_free_throw,\n",
    "                                        warriors_percent_free_throw)\n",
    "\n",
    "cavs_defense_modifier = pm.Normal('cavs_defense_modifier',cavs_fg_allowed.mean(),1/16.0)\n",
    "cavs_observed_defense = pm.Normal('cavs_observed_defense',cavs_fg_allowed.mean(),1/16.0,\n",
    "                                  value=cavs_fg_allowed,observed=True)\n",
    "\n",
    "@pm.deterministic\n",
    "def points(warriors_mu = warriors_mu,\n",
    "          warriors_free_throw_binom=warriors_free_throw_binom,\n",
    "          warriors_3_percentage=warriors_3_percentage,\n",
    "          cavs_defense_modifier=cavs_defense_modifier):\n",
    "    x = warriors_3_percentage\n",
    "    y = warriors_mu\n",
    "    z = cavs_defense_modifier\n",
    "    return .5*((x*y*3) + (y*(1-x)*2)) + .5*((x*z*3) + (z*(1-x)*2)) + warriors_free_throw_binom\n",
    "\n",
    "warriors_mcmc = pm.MCMC([warriors_mu,warriors_tau,warriors_obs,warriors_attempted_free_throw,\n",
    "                warriors_percent_free_throw,warriors_free_throw_binom,warriors_3_percentage,\n",
    "                points,cavs_defense_modifier,cavs_observed_defense])"
   ]
  },
  {
   "cell_type": "code",
   "execution_count": 18,
   "metadata": {
    "collapsed": true
   },
   "outputs": [],
   "source": [
    "cavs_mu = pm.Normal('cavs_,cavs_defenmu',avg_cavs_fgs,1/25.0)\n",
    "cavs_tau = 1.0/pm.Uniform('cavs_tau',1,10)**2\n",
    "cavs_obs = pm.Normal('cavs_obs',cavs_mu,cavs_tau,value=cavs_fg_data,\n",
    "                       observed=True)\n",
    "\n",
    "cavs_3_percentage = pm.Beta('cavs_3_percentage',cavs_attempted_3+1,\n",
    "                              cavs_total_attempted_fg-cavs_attempted_3+1)\n",
    "\n",
    "cavs_attempted_free_throw = pm.DiscreteUniform('cavs_attempted_free_throw',15,35)\n",
    "cavs_percent_free_throw = pm.Beta('cavs_completed_free_throw',cavs_free_throws_made+1,\n",
    "                                    cavs_free_throws_attempted-cavs_free_throws_made+1)\n",
    "cavs_free_throw_binom = pm.Binomial('cavs_free_throw_binom',cavs_attempted_free_throw,\n",
    "                                      cavs_percent_free_throw)\n",
    "\n",
    "warriors_defense_modifier = pm.Normal('warriors_defense_modifier',warriors_fg_allowed.mean(),1/16.0)\n",
    "warriors_observed_defense = pm.Normal('warriors_observed_defense',warriors_fg_allowed.mean(),1/16.0,\n",
    "                                      value=warriors_fg_allowed,observed=True)\n",
    "\n",
    "@pm.deterministic\n",
    "def cavs_points(cavs_mu = cavs_mu,\n",
    "           cavs_free_throw_binom = cavs_free_throw_binom,\n",
    "           cavs_3_percentage = cavs_3_percentage,\n",
    "           warriors_defense_modifier=warriors_defense_modifier):\n",
    "    x = cavs_3_percentage\n",
    "    y = cavs_mu\n",
    "    z = warriors_defense_modifier\n",
    "    return .5*((x*y*3) + (y*(1-x)*2)) + .5*((x*z*3) + (z*(1-x)*2)) + cavs_free_throw_binom\n",
    "\n",
    "cavs_mcmc = pm.MCMC([cavs_mu,cavs_tau,cavs_obs,cavs_attempted_free_throw,\n",
    "                       cavs_percent_free_throw,cavs_free_throw_binom,cavs_3_percentage,cavs_points,\n",
    "                    warriors_defense_modifier,warriors_observed_defense])"
   ]
  },
  {
   "cell_type": "code",
   "execution_count": 19,
   "metadata": {
    "collapsed": false
   },
   "outputs": [
    {
     "name": "stdout",
     "output_type": "stream",
     "text": [
      " [-----------------100%-----------------] 50000 of 50000 complete in 44.7 sec"
     ]
    }
   ],
   "source": [
    "warriors_mcmc.sample(50000,10000)\n",
    "tracer = warriors_mcmc.trace('points')[:]\n",
    "\n",
    "cavs_mcmc.sample(50000,10000)\n",
    "cavs_tracer = cavs_mcmc.trace('cavs_points')[:]"
   ]
  },
  {
   "cell_type": "code",
   "execution_count": 25,
   "metadata": {
    "collapsed": false
   },
   "outputs": [
    {
     "data": {
      "image/png": "[encoded data removed]",
      "text/plain": [
       "<matplotlib.figure.Figure at 0xa7d0648c>"
      ]
     },
     "metadata": {},
     "output_type": "display_data"
    }
   ],
   "source": [
    "plt.hist(tracer, bins=50, histtype='stepfilled', alpha=0.9, normed=True,label=\"Warriors\")\n",
    "plt.hist(cavs_tracer,bins=50,histtype='stepfilled',alpha=0.5,normed=True,label=\"Cavs\")\n",
    "plt.legend(loc='upper right')\n",
    "\n",
    "density = gaussian_kde(tracer)\n",
    "density.covariance_factor = lambda : .25\n",
    "density._compute_covariance()\n",
    "xs = np.arange(80,135,.5)\n",
    "ys = density(xs)\n",
    "\n",
    "cavs_density = gaussian_kde(cavs_tracer)\n",
    "cavs_density.covariance_factor = lambda : .25\n",
    "cavs_density._compute_covariance()\n",
    "cavs_xs = np.arange(80,135,.5)\n",
    "cavs_ys = cavs_density(cavs_xs)\n",
    "plt.plot(xs,ys,linewidth=2,color='red')\n",
    "plt.plot(cavs_xs,cavs_ys,linewidth=2,color='blue')\n",
    "plt.title('Posterior Point Distributions')\n",
    "plt.xlabel('Points')\n",
    "plt.ylabel('Probability Density')\n",
    "plt.show()"
   ]
  },
  {
   "cell_type": "code",
   "execution_count": 26,
   "metadata": {
    "collapsed": false
   },
   "outputs": [
    {
     "data": {
      "text/plain": [
       "0.66290000000000004"
      ]
     },
     "execution_count": 26,
     "metadata": {},
     "output_type": "execute_result"
    }
   ],
   "source": [
    "(cavs_tracer > tracer).mean()"
   ]
  },
  {
   "cell_type": "code",
   "execution_count": null,
   "metadata": {
    "collapsed": true
   },
   "outputs": [],
   "source": []
  }
 ],
 "metadata": {
  "kernelspec": {
   "display_name": "Python 2",
   "language": "python",
   "name": "python2"
  },
  "language_info": {
   "codemirror_mode": {
    "name": "ipython",
    "version": 2
   },
   "file_extension": ".py",
   "mimetype": "text/x-python",
   "name": "python",
   "nbconvert_exporter": "python",
   "pygments_lexer": "ipython2",
   "version": "2.7.11"
  }
 },
 "nbformat": 4,
 "nbformat_minor": 0
}
